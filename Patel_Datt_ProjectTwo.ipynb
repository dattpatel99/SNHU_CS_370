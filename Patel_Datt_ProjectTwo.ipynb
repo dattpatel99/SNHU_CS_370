{
 "cells": [
  {
   "cell_type": "markdown",
   "metadata": {},
   "source": [
    "# Treasure Hunt Game Notebook\n",
    "\n",
    "## Read and Review Your Starter Code\n",
    "The theme of this project is a popular treasure hunt game in which the player needs to find the treasure before the pirate does. While you will not be developing the entire game, you will write the part of the game that represents the intelligent agent, which is a pirate in this case. The pirate will try to find the optimal path to the treasure using deep Q-learning. \n",
    "\n",
    "You have been provided with two Python classes and this notebook to help you with this assignment. The first class, TreasureMaze.py, represents the environment, which includes a maze object defined as a matrix. The second class, GameExperience.py, stores the episodes – that is, all the states that come in between the initial state and the terminal state. This is later used by the agent for learning by experience, called \"exploration\". This notebook shows how to play a game. Your task is to complete the deep Q-learning implementation for which a skeleton implementation has been provided. The code blocs you will need to complete has #TODO as a header.\n",
    "\n",
    "First, read and review the next few code and instruction blocks to understand the code that you have been given."
   ]
  },
  {
   "cell_type": "code",
   "execution_count": 34,
   "metadata": {},
   "outputs": [],
   "source": [
    "from __future__ import print_function\n",
    "import os, sys, time, datetime, json, random\n",
    "import numpy as np\n",
    "from keras.models import Sequential\n",
    "from keras.layers.core import Dense, Activation\n",
    "from tensorflow.keras.optimizers import SGD , Adam, RMSprop\n",
    "from keras.layers.advanced_activations import PReLU\n",
    "import matplotlib.pyplot as plt\n",
    "from TreasureMaze import TreasureMaze\n",
    "from GameExperience import GameExperience\n",
    "%matplotlib inline"
   ]
  },
  {
   "cell_type": "markdown",
   "metadata": {},
   "source": [
    "The following code block contains an 8x8 matrix that will be used as a maze object:"
   ]
  },
  {
   "cell_type": "code",
   "execution_count": 35,
   "metadata": {},
   "outputs": [],
   "source": [
    "maze = np.array([\n",
    "    [ 1.,  0.,  1.,  1.,  1.,  1.,  1.,  1.],\n",
    "    [ 1.,  0.,  1.,  1.,  1.,  0.,  1.,  1.],\n",
    "    [ 1.,  1.,  1.,  1.,  0.,  1.,  0.,  1.],\n",
    "    [ 1.,  1.,  1.,  0.,  1.,  1.,  1.,  1.],\n",
    "    [ 1.,  1.,  0.,  1.,  1.,  1.,  1.,  1.],\n",
    "    [ 1.,  1.,  1.,  0.,  1.,  0.,  0.,  0.],\n",
    "    [ 1.,  1.,  1.,  0.,  1.,  1.,  1.,  1.],\n",
    "    [ 1.,  1.,  1.,  1.,  0.,  1.,  1.,  1.]\n",
    "])"
   ]
  },
  {
   "cell_type": "markdown",
   "metadata": {},
   "source": [
    "This helper function allows a visual representation of the maze object:"
   ]
  },
  {
   "cell_type": "code",
   "execution_count": 36,
   "metadata": {},
   "outputs": [],
   "source": [
    "def show(qmaze):\n",
    "    plt.grid('on')\n",
    "    nrows, ncols = qmaze.maze.shape\n",
    "    ax = plt.gca()\n",
    "    ax.set_xticks(np.arange(0.5, nrows, 1))\n",
    "    ax.set_yticks(np.arange(0.5, ncols, 1))\n",
    "    ax.set_xticklabels([])\n",
    "    ax.set_yticklabels([])\n",
    "    canvas = np.copy(qmaze.maze)\n",
    "    for row,col in qmaze.visited:\n",
    "        canvas[row,col] = 0.6\n",
    "    pirate_row, pirate_col, _ = qmaze.state\n",
    "    canvas[pirate_row, pirate_col] = 0.3   # pirate cell\n",
    "    canvas[nrows-1, ncols-1] = 0.9 # treasure cell\n",
    "    img = plt.imshow(canvas, interpolation='none', cmap='gray')\n",
    "    return img"
   ]
  },
  {
   "cell_type": "markdown",
   "metadata": {},
   "source": [
    "The pirate agent can move in four directions: left, right, up, and down. \n",
    "\n",
    "While the agent primarily learns by experience through exploitation, often, the agent can choose to explore the environment to find previously undiscovered paths. This is called \"exploration\" and is defined by epsilon. This value is typically a lower value such as 0.1, which means for every ten attempts, the agent will attempt to learn by experience nine times and will randomly explore a new path one time. You are encouraged to try various values for the exploration factor and see how the algorithm performs."
   ]
  },
  {
   "cell_type": "code",
   "execution_count": 37,
   "metadata": {},
   "outputs": [],
   "source": [
    "LEFT = 0\n",
    "UP = 1\n",
    "RIGHT = 2\n",
    "DOWN = 3\n",
    "\n",
    "\n",
    "# Exploration factor\n",
    "epsilon = 0.1\n",
    "\n",
    "# Actions dictionary\n",
    "actions_dict = {\n",
    "    LEFT: 'left',\n",
    "    UP: 'up',\n",
    "    RIGHT: 'right',\n",
    "    DOWN: 'down',\n",
    "}\n",
    "\n",
    "num_actions = len(actions_dict)\n"
   ]
  },
  {
   "cell_type": "markdown",
   "metadata": {},
   "source": [
    "The sample code block and output below show creating a maze object and performing one action (DOWN), which returns the reward. The resulting updated environment is visualized."
   ]
  },
  {
   "cell_type": "code",
   "execution_count": 38,
   "metadata": {},
   "outputs": [
    {
     "name": "stdout",
     "output_type": "stream",
     "text": [
      "reward= -0.04\n"
     ]
    },
    {
     "data": {
      "text/plain": [
       "<matplotlib.image.AxesImage at 0x1fa109e3d88>"
      ]
     },
     "execution_count": 38,
     "metadata": {},
     "output_type": "execute_result"
    },
    {
     "data": {
      "image/png": "[encoded data removed]",
      "text/plain": [
       "<Figure size 432x288 with 1 Axes>"
      ]
     },
     "metadata": {
      "needs_background": "light"
     },
     "output_type": "display_data"
    }
   ],
   "source": [
    "qmaze = TreasureMaze(maze)\n",
    "canvas, reward, game_over = qmaze.act(DOWN)\n",
    "print(\"reward=\", reward)\n",
    "show(qmaze)"
   ]
  },
  {
   "cell_type": "markdown",
   "metadata": {},
   "source": [
    "This function simulates a full game based on the provided trained model. The other parameters include the TreasureMaze object and the starting position of the pirate."
   ]
  },
  {
   "cell_type": "code",
   "execution_count": 39,
   "metadata": {},
   "outputs": [],
   "source": [
    "def play_game(model, qmaze, pirate_cell):\n",
    "    qmaze.reset(pirate_cell)\n",
    "    envstate = qmaze.observe()\n",
    "    while True:\n",
    "        prev_envstate = envstate\n",
    "        # get next action\n",
    "        q = model.predict(prev_envstate)\n",
    "        action = np.argmax(q[0])\n",
    "\n",
    "        # apply action, get rewards and new state\n",
    "        envstate, reward, game_status = qmaze.act(action)\n",
    "        if game_status == 'win':\n",
    "            return True\n",
    "        elif game_status == 'lose':\n",
    "            return False"
   ]
  },
  {
   "cell_type": "markdown",
   "metadata": {},
   "source": [
    "This function helps you to determine whether the pirate can win any game at all. If your maze is not well designed, the pirate may not win any game at all. In this case, your training would not yield any result. The provided maze in this notebook ensures that there is a path to win and you can run this method to check."
   ]
  },
  {
   "cell_type": "code",
   "execution_count": 40,
   "metadata": {},
   "outputs": [],
   "source": [
    "def completion_check(model, qmaze):\n",
    "    for cell in qmaze.free_cells:\n",
    "        if not qmaze.valid_actions(cell):\n",
    "            return False\n",
    "        if not play_game(model, qmaze, cell):\n",
    "            return False\n",
    "    return True"
   ]
  },
  {
   "cell_type": "markdown",
   "metadata": {},
   "source": [
    "The code you have been given in this block will build the neural network model. Review the code and note the number of layers, as well as the activation, optimizer, and loss functions that are used to train the model."
   ]
  },
  {
   "cell_type": "code",
   "execution_count": 41,
   "metadata": {},
   "outputs": [],
   "source": [
    "def build_model(maze):\n",
    "    model = Sequential()\n",
    "    model.add(Dense(maze.size, input_shape=(maze.size,)))\n",
    "    model.add(PReLU())\n",
    "    model.add(Dense(maze.size))\n",
    "    model.add(PReLU())\n",
    "    model.add(Dense(num_actions))\n",
    "    model.compile(optimizer='adam', loss='mse')\n",
    "    return model"
   ]
  },
  {
   "cell_type": "markdown",
   "metadata": {},
   "source": [
    "# #TODO: Complete the Q-Training Algorithm Code Block\n",
    "\n",
    "This is your deep Q-learning implementation. The goal of your deep Q-learning implementation is to find the best possible navigation sequence that results in reaching the treasure cell while maximizing the reward. In your implementation, you need to determine the optimal number of epochs to achieve a 100% win rate.\n",
    "\n",
    "You will need to complete the section starting with #pseudocode. The pseudocode has been included for you."
   ]
  },
  {
   "cell_type": "code",
   "execution_count": 42,
   "metadata": {},
   "outputs": [],
   "source": [
    "def qtrain(model, maze, **opt):\n",
    "\n",
    "    # exploration factor\n",
    "    global epsilon \n",
    "\n",
    "    # number of epochs\n",
    "    n_epoch = opt.get('n_epoch', 15000)\n",
    "\n",
    "    # maximum memory to store episodes\n",
    "    max_memory = opt.get('max_memory', 1000)\n",
    "\n",
    "    # maximum data size for training\n",
    "    data_size = opt.get('data_size', 50)\n",
    "\n",
    "    # start time\n",
    "    start_time = datetime.datetime.now()\n",
    "\n",
    "    # Construct environment/game from numpy array: maze (see above)\n",
    "    qmaze = TreasureMaze(maze)\n",
    "\n",
    "    # Initialize experience replay object\n",
    "    experience = GameExperience(model, max_memory=max_memory)\n",
    "    \n",
    "    win_history = []   # history of win/lose game\n",
    "    hsize = qmaze.maze.size//2   # history window size\n",
    "    win_rate = 0.0\n",
    "    # Number of epochs to use as observation/exploration\n",
    "    OBSERVE = 100\n",
    "    # counter for win rate\n",
    "    counter = 0\n",
    "\n",
    "    # pseudocode:\n",
    "    # For each epoch:\n",
    "    #    Agent_cell = randomly select a free cell\n",
    "    #    Reset the maze with agent set to above position\n",
    "    #    Hint: Review the reset method in the TreasureMaze.py class.\n",
    "    #    envstate = Environment.current_state\n",
    "    #    Hint: Review the observe method in the TreasureMaze.py class.\n",
    "    #    While state is not game over:\n",
    "    #        previous_envstate = envstate\n",
    "    #        Action = randomly choose action (left, right, up, down) either by exploration or by exploitation\n",
    "    #        envstate, reward, game_status = qmaze.act(action)\n",
    "    #    Hint: Review the act method in the TreasureMaze.py class.\n",
    "    #        episode = [previous_envstate, action, reward, envstate, game_status]\n",
    "    #        Store episode in Experience replay object\n",
    "    #    Hint: Review the remember method in the GameExperience.py class.\n",
    "    #        Train neural network model and evaluate loss\n",
    "    #    Hint: Call GameExperience.get_data to retrieve training data (input and target) and pass to model.fit method \n",
    "    #          to train the model. You can call model.evaluate to determine loss.\n",
    "    #    If the win rate is above the threshold and your model passes the completion check, that would be your epoch.\n",
    "    \n",
    "    for epoch in range(n_epoch):\n",
    "        # increment win rate counter\n",
    "        counter += 1\n",
    "        # necessary variables\n",
    "        n_episodes = 0\n",
    "        loss = 0.0\n",
    "\n",
    "        agent_cell = random.choice(qmaze.free_cells) # select random open position\n",
    "        qmaze.reset(agent_cell) # Reset pos for agent\n",
    "        envstate = qmaze.observe() # Get the current env\n",
    "        status = qmaze.game_status()\n",
    "        # loop till game ends in lose or win\n",
    "        while status == 'not_over':\n",
    "            # store this state so it can become a previous state\n",
    "            previous_envstate = envstate\n",
    "            # list of valid actions at current agent position\n",
    "            valid_actions = qmaze.valid_actions()\n",
    "            # Get proper action based on exploration/exploitation\n",
    "            if epoch <= OBSERVE:\n",
    "                action = random.choice(valid_actions)\n",
    "            else:\n",
    "                if np.random.uniform(0.0, 1.0) > epsilon:\n",
    "                    action = np.argmax(experience.predict(envstate))\n",
    "                else:\n",
    "                    action = random.choice(valid_actions)\n",
    "\n",
    "            # Take action and get output\n",
    "            envstate, reward, status = qmaze.act(action)\n",
    "            \n",
    "            # Update win history\n",
    "            if status == 'win':\n",
    "                win_history.append(1)\n",
    "            elif status == 'lose':\n",
    "                win_history.append(0)\n",
    "\n",
    "            # Make episode, store, and increment num of episodes\n",
    "            episode = [previous_envstate, action, reward, envstate, status]\n",
    "            # Store episode in memory relay\n",
    "            experience.remember(episode)\n",
    "            # increase number of episodes\n",
    "            n_episodes += 1\n",
    "\n",
    "            # Train model if observation epochs have passed\n",
    "            if epoch > OBSERVE:\n",
    "                inputs, tragets = experience.get_data(data_size)\n",
    "                history = model.fit(inputs, tragets, epochs=8, batch_size=10, verbose=0)\n",
    "                loss += model.evaluate(inputs, tragets, verbose=0)\n",
    "        # calculate win rate of all runs\n",
    "        win_rate = sum(win_history)/counter\n",
    "\n",
    "        #Print the epoch, loss, episodes, win count, and win rate for each epoch\n",
    "        dt = datetime.datetime.now() - start_time\n",
    "        t = format_time(dt.total_seconds())\n",
    "        template = \"Epoch: {:03d}/{:d} | Loss: {:.4f} | Episodes: {:d} | Win count: {:d} | Win rate: {:.3f} | time: {}\"\n",
    "        print(template.format(epoch, n_epoch-1, loss, n_episodes, sum(win_history), win_rate, t))\n",
    "        # We simply check if training has exhausted all free cells and if in all\n",
    "        # cases the agent won.\n",
    "        if win_rate > 0.9 : epsilon = 0.05\n",
    "        if sum(win_history[-hsize:]) == hsize and completion_check(model, qmaze):\n",
    "            print(\"Reached 100%% win rate at epoch: %d\" % (epoch,))\n",
    "            break\n",
    "    \n",
    "    # Determine the total time for training\n",
    "    dt = datetime.datetime.now() - start_time\n",
    "    seconds = dt.total_seconds()\n",
    "    t = format_time(seconds)\n",
    "\n",
    "    print(\"n_epoch: %d, max_mem: %d, data: %d, time: %s\" % (epoch, max_memory, data_size, t))\n",
    "    return seconds\n",
    "\n",
    "# This is a small utility for printing readable time strings:\n",
    "def format_time(seconds):\n",
    "    if seconds < 400:\n",
    "        s = float(seconds)\n",
    "        return \"%.1f seconds\" % (s,)\n",
    "    elif seconds < 4000:\n",
    "        m = seconds / 60.0\n",
    "        return \"%.2f minutes\" % (m,)\n",
    "    else:\n",
    "        h = seconds / 3600.0\n",
    "        return \"%.2f hours\" % (h,)"
   ]
  },
  {
   "cell_type": "markdown",
   "metadata": {},
   "source": [
    "## Test Your Model\n",
    "\n",
    "Now we will start testing the deep Q-learning implementation. To begin, select **Cell**, then **Run All** from the menu bar. This will run your notebook. As it runs, you should see output begin to appear beneath the next few cells. The code below creates an instance of TreasureMaze."
   ]
  },
  {
   "cell_type": "code",
   "execution_count": 43,
   "metadata": {},
   "outputs": [
    {
     "data": {
      "text/plain": [
       "<matplotlib.image.AxesImage at 0x1fa0f167608>"
      ]
     },
     "execution_count": 43,
     "metadata": {},
     "output_type": "execute_result"
    },
    {
     "data": {
      "image/png": "[encoded data removed]",
      "text/plain": [
       "<Figure size 432x288 with 1 Axes>"
      ]
     },
     "metadata": {
      "needs_background": "light"
     },
     "output_type": "display_data"
    }
   ],
   "source": [
    "qmaze = TreasureMaze(maze)\n",
    "show(qmaze)"
   ]
  },
  {
   "cell_type": "markdown",
   "metadata": {},
   "source": [
    "In the next code block, you will build your model and train it using deep Q-learning. Note: This step takes several minutes to fully run."
   ]
  },
  {
   "cell_type": "code",
   "execution_count": 44,
   "metadata": {},
   "outputs": [
    {
     "name": "stdout",
     "output_type": "stream",
     "text": [
      "Epoch: 000/14999 | Loss: 0.0000 | Episodes: 153 | Win count: 0 | Win rate: 0.000 | time: 0.0 seconds\n",
      "Epoch: 001/14999 | Loss: 0.0000 | Episodes: 139 | Win count: 0 | Win rate: 0.000 | time: 0.0 seconds\n",
      "Epoch: 002/14999 | Loss: 0.0000 | Episodes: 143 | Win count: 0 | Win rate: 0.000 | time: 0.0 seconds\n",
      "Epoch: 003/14999 | Loss: 0.0000 | Episodes: 132 | Win count: 1 | Win rate: 0.250 | time: 0.0 seconds\n",
      "Epoch: 004/14999 | Loss: 0.0000 | Episodes: 153 | Win count: 1 | Win rate: 0.200 | time: 0.0 seconds\n",
      "Epoch: 005/14999 | Loss: 0.0000 | Episodes: 150 | Win count: 1 | Win rate: 0.167 | time: 0.1 seconds\n",
      "Epoch: 006/14999 | Loss: 0.0000 | Episodes: 152 | Win count: 1 | Win rate: 0.143 | time: 0.1 seconds\n",
      "Epoch: 007/14999 | Loss: 0.0000 | Episodes: 12 | Win count: 2 | Win rate: 0.250 | time: 0.1 seconds\n",
      "Epoch: 008/14999 | Loss: 0.0000 | Episodes: 150 | Win count: 2 | Win rate: 0.222 | time: 0.1 seconds\n",
      "Epoch: 009/14999 | Loss: 0.0000 | Episodes: 151 | Win count: 2 | Win rate: 0.200 | time: 0.1 seconds\n",
      "Epoch: 010/14999 | Loss: 0.0000 | Episodes: 144 | Win count: 2 | Win rate: 0.182 | time: 0.1 seconds\n",
      "Epoch: 011/14999 | Loss: 0.0000 | Episodes: 148 | Win count: 2 | Win rate: 0.167 | time: 0.1 seconds\n",
      "Epoch: 012/14999 | Loss: 0.0000 | Episodes: 146 | Win count: 2 | Win rate: 0.154 | time: 0.1 seconds\n",
      "Epoch: 013/14999 | Loss: 0.0000 | Episodes: 144 | Win count: 2 | Win rate: 0.143 | time: 0.1 seconds\n",
      "Epoch: 014/14999 | Loss: 0.0000 | Episodes: 151 | Win count: 2 | Win rate: 0.133 | time: 0.1 seconds\n",
      "Epoch: 015/14999 | Loss: 0.0000 | Episodes: 150 | Win count: 2 | Win rate: 0.125 | time: 0.1 seconds\n",
      "Epoch: 016/14999 | Loss: 0.0000 | Episodes: 154 | Win count: 2 | Win rate: 0.118 | time: 0.1 seconds\n",
      "Epoch: 017/14999 | Loss: 0.0000 | Episodes: 148 | Win count: 2 | Win rate: 0.111 | time: 0.1 seconds\n",
      "Epoch: 018/14999 | Loss: 0.0000 | Episodes: 154 | Win count: 2 | Win rate: 0.105 | time: 0.2 seconds\n",
      "Epoch: 019/14999 | Loss: 0.0000 | Episodes: 62 | Win count: 3 | Win rate: 0.150 | time: 0.2 seconds\n",
      "Epoch: 020/14999 | Loss: 0.0000 | Episodes: 88 | Win count: 4 | Win rate: 0.190 | time: 0.2 seconds\n",
      "Epoch: 021/14999 | Loss: 0.0000 | Episodes: 136 | Win count: 5 | Win rate: 0.227 | time: 0.2 seconds\n",
      "Epoch: 022/14999 | Loss: 0.0000 | Episodes: 139 | Win count: 5 | Win rate: 0.217 | time: 0.2 seconds\n",
      "Epoch: 023/14999 | Loss: 0.0000 | Episodes: 122 | Win count: 6 | Win rate: 0.250 | time: 0.2 seconds\n",
      "Epoch: 024/14999 | Loss: 0.0000 | Episodes: 42 | Win count: 7 | Win rate: 0.280 | time: 0.2 seconds\n",
      "Epoch: 025/14999 | Loss: 0.0000 | Episodes: 148 | Win count: 7 | Win rate: 0.269 | time: 0.2 seconds\n",
      "Epoch: 026/14999 | Loss: 0.0000 | Episodes: 152 | Win count: 7 | Win rate: 0.259 | time: 0.2 seconds\n",
      "Epoch: 027/14999 | Loss: 0.0000 | Episodes: 4 | Win count: 8 | Win rate: 0.286 | time: 0.2 seconds\n",
      "Epoch: 028/14999 | Loss: 0.0000 | Episodes: 150 | Win count: 8 | Win rate: 0.276 | time: 0.3 seconds\n",
      "Epoch: 029/14999 | Loss: 0.0000 | Episodes: 146 | Win count: 8 | Win rate: 0.267 | time: 0.3 seconds\n",
      "Epoch: 030/14999 | Loss: 0.0000 | Episodes: 147 | Win count: 8 | Win rate: 0.258 | time: 0.3 seconds\n",
      "Epoch: 031/14999 | Loss: 0.0000 | Episodes: 11 | Win count: 9 | Win rate: 0.281 | time: 0.3 seconds\n",
      "Epoch: 032/14999 | Loss: 0.0000 | Episodes: 141 | Win count: 9 | Win rate: 0.273 | time: 0.3 seconds\n",
      "Epoch: 033/14999 | Loss: 0.0000 | Episodes: 160 | Win count: 9 | Win rate: 0.265 | time: 0.3 seconds\n",
      "Epoch: 034/14999 | Loss: 0.0000 | Episodes: 153 | Win count: 9 | Win rate: 0.257 | time: 0.3 seconds\n",
      "Epoch: 035/14999 | Loss: 0.0000 | Episodes: 150 | Win count: 9 | Win rate: 0.250 | time: 0.3 seconds\n",
      "Epoch: 036/14999 | Loss: 0.0000 | Episodes: 25 | Win count: 10 | Win rate: 0.270 | time: 0.3 seconds\n",
      "Epoch: 037/14999 | Loss: 0.0000 | Episodes: 1 | Win count: 11 | Win rate: 0.289 | time: 0.3 seconds\n",
      "Epoch: 038/14999 | Loss: 0.0000 | Episodes: 146 | Win count: 11 | Win rate: 0.282 | time: 0.3 seconds\n",
      "Epoch: 039/14999 | Loss: 0.0000 | Episodes: 150 | Win count: 11 | Win rate: 0.275 | time: 0.3 seconds\n",
      "Epoch: 040/14999 | Loss: 0.0000 | Episodes: 160 | Win count: 11 | Win rate: 0.268 | time: 0.3 seconds\n",
      "Epoch: 041/14999 | Loss: 0.0000 | Episodes: 153 | Win count: 11 | Win rate: 0.262 | time: 0.3 seconds\n",
      "Epoch: 042/14999 | Loss: 0.0000 | Episodes: 150 | Win count: 11 | Win rate: 0.256 | time: 0.3 seconds\n",
      "Epoch: 043/14999 | Loss: 0.0000 | Episodes: 151 | Win count: 11 | Win rate: 0.250 | time: 0.3 seconds\n",
      "Epoch: 044/14999 | Loss: 0.0000 | Episodes: 156 | Win count: 11 | Win rate: 0.244 | time: 0.4 seconds\n",
      "Epoch: 045/14999 | Loss: 0.0000 | Episodes: 11 | Win count: 12 | Win rate: 0.261 | time: 0.4 seconds\n",
      "Epoch: 046/14999 | Loss: 0.0000 | Episodes: 148 | Win count: 12 | Win rate: 0.255 | time: 0.4 seconds\n",
      "Epoch: 047/14999 | Loss: 0.0000 | Episodes: 152 | Win count: 12 | Win rate: 0.250 | time: 0.4 seconds\n",
      "Epoch: 048/14999 | Loss: 0.0000 | Episodes: 149 | Win count: 12 | Win rate: 0.245 | time: 0.4 seconds\n",
      "Epoch: 049/14999 | Loss: 0.0000 | Episodes: 155 | Win count: 12 | Win rate: 0.240 | time: 0.4 seconds\n",
      "Epoch: 050/14999 | Loss: 0.0000 | Episodes: 150 | Win count: 12 | Win rate: 0.235 | time: 0.4 seconds\n",
      "Epoch: 051/14999 | Loss: 0.0000 | Episodes: 149 | Win count: 12 | Win rate: 0.231 | time: 0.4 seconds\n",
      "Epoch: 052/14999 | Loss: 0.0000 | Episodes: 140 | Win count: 12 | Win rate: 0.226 | time: 0.4 seconds\n",
      "Epoch: 053/14999 | Loss: 0.0000 | Episodes: 26 | Win count: 13 | Win rate: 0.241 | time: 0.4 seconds\n",
      "Epoch: 054/14999 | Loss: 0.0000 | Episodes: 146 | Win count: 13 | Win rate: 0.236 | time: 0.4 seconds\n",
      "Epoch: 055/14999 | Loss: 0.0000 | Episodes: 12 | Win count: 14 | Win rate: 0.250 | time: 0.4 seconds\n",
      "Epoch: 056/14999 | Loss: 0.0000 | Episodes: 142 | Win count: 14 | Win rate: 0.246 | time: 0.4 seconds\n",
      "Epoch: 057/14999 | Loss: 0.0000 | Episodes: 148 | Win count: 14 | Win rate: 0.241 | time: 0.4 seconds\n",
      "Epoch: 058/14999 | Loss: 0.0000 | Episodes: 155 | Win count: 14 | Win rate: 0.237 | time: 0.4 seconds\n",
      "Epoch: 059/14999 | Loss: 0.0000 | Episodes: 149 | Win count: 14 | Win rate: 0.233 | time: 0.4 seconds\n",
      "Epoch: 060/14999 | Loss: 0.0000 | Episodes: 150 | Win count: 14 | Win rate: 0.230 | time: 0.4 seconds\n",
      "Epoch: 061/14999 | Loss: 0.0000 | Episodes: 148 | Win count: 14 | Win rate: 0.226 | time: 0.5 seconds\n",
      "Epoch: 062/14999 | Loss: 0.0000 | Episodes: 150 | Win count: 14 | Win rate: 0.222 | time: 0.5 seconds\n",
      "Epoch: 063/14999 | Loss: 0.0000 | Episodes: 139 | Win count: 14 | Win rate: 0.219 | time: 0.5 seconds\n",
      "Epoch: 064/14999 | Loss: 0.0000 | Episodes: 98 | Win count: 15 | Win rate: 0.231 | time: 0.5 seconds\n",
      "Epoch: 065/14999 | Loss: 0.0000 | Episodes: 146 | Win count: 15 | Win rate: 0.227 | time: 0.5 seconds\n",
      "Epoch: 066/14999 | Loss: 0.0000 | Episodes: 80 | Win count: 16 | Win rate: 0.239 | time: 0.5 seconds\n",
      "Epoch: 067/14999 | Loss: 0.0000 | Episodes: 155 | Win count: 16 | Win rate: 0.235 | time: 0.5 seconds\n",
      "Epoch: 068/14999 | Loss: 0.0000 | Episodes: 110 | Win count: 17 | Win rate: 0.246 | time: 0.5 seconds\n",
      "Epoch: 069/14999 | Loss: 0.0000 | Episodes: 157 | Win count: 17 | Win rate: 0.243 | time: 0.5 seconds\n",
      "Epoch: 070/14999 | Loss: 0.0000 | Episodes: 144 | Win count: 17 | Win rate: 0.239 | time: 0.5 seconds\n",
      "Epoch: 071/14999 | Loss: 0.0000 | Episodes: 146 | Win count: 17 | Win rate: 0.236 | time: 0.5 seconds\n",
      "Epoch: 072/14999 | Loss: 0.0000 | Episodes: 79 | Win count: 18 | Win rate: 0.247 | time: 0.5 seconds\n",
      "Epoch: 073/14999 | Loss: 0.0000 | Episodes: 139 | Win count: 18 | Win rate: 0.243 | time: 0.5 seconds\n",
      "Epoch: 074/14999 | Loss: 0.0000 | Episodes: 35 | Win count: 19 | Win rate: 0.253 | time: 0.5 seconds\n",
      "Epoch: 075/14999 | Loss: 0.0000 | Episodes: 10 | Win count: 20 | Win rate: 0.263 | time: 0.5 seconds\n",
      "Epoch: 076/14999 | Loss: 0.0000 | Episodes: 159 | Win count: 20 | Win rate: 0.260 | time: 0.5 seconds\n",
      "Epoch: 077/14999 | Loss: 0.0000 | Episodes: 150 | Win count: 20 | Win rate: 0.256 | time: 0.5 seconds\n",
      "Epoch: 078/14999 | Loss: 0.0000 | Episodes: 51 | Win count: 21 | Win rate: 0.266 | time: 0.5 seconds\n",
      "Epoch: 079/14999 | Loss: 0.0000 | Episodes: 16 | Win count: 22 | Win rate: 0.275 | time: 0.5 seconds\n",
      "Epoch: 080/14999 | Loss: 0.0000 | Episodes: 150 | Win count: 22 | Win rate: 0.272 | time: 0.6 seconds\n",
      "Epoch: 081/14999 | Loss: 0.0000 | Episodes: 148 | Win count: 22 | Win rate: 0.268 | time: 0.6 seconds\n",
      "Epoch: 082/14999 | Loss: 0.0000 | Episodes: 135 | Win count: 23 | Win rate: 0.277 | time: 0.6 seconds\n",
      "Epoch: 083/14999 | Loss: 0.0000 | Episodes: 145 | Win count: 23 | Win rate: 0.274 | time: 0.6 seconds\n",
      "Epoch: 084/14999 | Loss: 0.0000 | Episodes: 154 | Win count: 23 | Win rate: 0.271 | time: 0.6 seconds\n",
      "Epoch: 085/14999 | Loss: 0.0000 | Episodes: 150 | Win count: 23 | Win rate: 0.267 | time: 0.6 seconds\n",
      "Epoch: 086/14999 | Loss: 0.0000 | Episodes: 145 | Win count: 23 | Win rate: 0.264 | time: 0.6 seconds\n",
      "Epoch: 087/14999 | Loss: 0.0000 | Episodes: 135 | Win count: 24 | Win rate: 0.273 | time: 0.6 seconds\n",
      "Epoch: 088/14999 | Loss: 0.0000 | Episodes: 142 | Win count: 24 | Win rate: 0.270 | time: 0.6 seconds\n",
      "Epoch: 089/14999 | Loss: 0.0000 | Episodes: 142 | Win count: 24 | Win rate: 0.267 | time: 0.6 seconds\n",
      "Epoch: 090/14999 | Loss: 0.0000 | Episodes: 27 | Win count: 25 | Win rate: 0.275 | time: 0.6 seconds\n",
      "Epoch: 091/14999 | Loss: 0.0000 | Episodes: 139 | Win count: 25 | Win rate: 0.272 | time: 0.6 seconds\n",
      "Epoch: 092/14999 | Loss: 0.0000 | Episodes: 141 | Win count: 25 | Win rate: 0.269 | time: 0.6 seconds\n",
      "Epoch: 093/14999 | Loss: 0.0000 | Episodes: 144 | Win count: 25 | Win rate: 0.266 | time: 0.6 seconds\n",
      "Epoch: 094/14999 | Loss: 0.0000 | Episodes: 144 | Win count: 25 | Win rate: 0.263 | time: 0.6 seconds\n",
      "Epoch: 095/14999 | Loss: 0.0000 | Episodes: 140 | Win count: 25 | Win rate: 0.260 | time: 0.6 seconds\n",
      "Epoch: 096/14999 | Loss: 0.0000 | Episodes: 145 | Win count: 25 | Win rate: 0.258 | time: 0.6 seconds\n",
      "Epoch: 097/14999 | Loss: 0.0000 | Episodes: 154 | Win count: 25 | Win rate: 0.255 | time: 0.7 seconds\n",
      "Epoch: 098/14999 | Loss: 0.0000 | Episodes: 117 | Win count: 26 | Win rate: 0.263 | time: 0.7 seconds\n",
      "Epoch: 099/14999 | Loss: 0.0000 | Episodes: 146 | Win count: 26 | Win rate: 0.260 | time: 0.7 seconds\n",
      "Epoch: 100/14999 | Loss: 0.0000 | Episodes: 143 | Win count: 26 | Win rate: 0.257 | time: 0.7 seconds\n",
      "Epoch: 101/14999 | Loss: 0.0812 | Episodes: 2 | Win count: 27 | Win rate: 0.265 | time: 2.3 seconds\n",
      "Epoch: 102/14999 | Loss: 0.4113 | Episodes: 144 | Win count: 27 | Win rate: 0.262 | time: 22.5 seconds\n",
      "Epoch: 103/14999 | Loss: 0.2184 | Episodes: 140 | Win count: 27 | Win rate: 0.260 | time: 41.4 seconds\n",
      "Epoch: 104/14999 | Loss: 0.1829 | Episodes: 134 | Win count: 27 | Win rate: 0.257 | time: 59.5 seconds\n",
      "Epoch: 105/14999 | Loss: 0.0018 | Episodes: 2 | Win count: 28 | Win rate: 0.264 | time: 59.8 seconds\n",
      "Epoch: 106/14999 | Loss: 0.0014 | Episodes: 2 | Win count: 29 | Win rate: 0.271 | time: 60.2 seconds\n",
      "Epoch: 107/14999 | Loss: 0.1985 | Episodes: 149 | Win count: 29 | Win rate: 0.269 | time: 79.8 seconds\n",
      "Epoch: 108/14999 | Loss: 0.2539 | Episodes: 145 | Win count: 29 | Win rate: 0.266 | time: 99.3 seconds\n",
      "Epoch: 109/14999 | Loss: 0.0430 | Episodes: 22 | Win count: 30 | Win rate: 0.273 | time: 102.3 seconds\n",
      "Epoch: 110/14999 | Loss: 0.2176 | Episodes: 135 | Win count: 30 | Win rate: 0.270 | time: 120.5 seconds\n",
      "Epoch: 111/14999 | Loss: 0.0028 | Episodes: 4 | Win count: 31 | Win rate: 0.277 | time: 121.1 seconds\n",
      "Epoch: 112/14999 | Loss: 0.1365 | Episodes: 134 | Win count: 31 | Win rate: 0.274 | time: 139.1 seconds\n",
      "Epoch: 113/14999 | Loss: 0.1168 | Episodes: 136 | Win count: 31 | Win rate: 0.272 | time: 158.0 seconds\n",
      "Epoch: 114/14999 | Loss: 0.0044 | Episodes: 8 | Win count: 32 | Win rate: 0.278 | time: 159.4 seconds\n",
      "Epoch: 115/14999 | Loss: 0.0855 | Episodes: 134 | Win count: 32 | Win rate: 0.276 | time: 177.6 seconds\n",
      "Epoch: 116/14999 | Loss: 0.0786 | Episodes: 139 | Win count: 32 | Win rate: 0.274 | time: 197.0 seconds\n",
      "Epoch: 117/14999 | Loss: 0.0361 | Episodes: 53 | Win count: 33 | Win rate: 0.280 | time: 204.1 seconds\n",
      "Epoch: 118/14999 | Loss: 0.0549 | Episodes: 73 | Win count: 34 | Win rate: 0.286 | time: 213.6 seconds\n",
      "Epoch: 119/14999 | Loss: 0.0120 | Episodes: 12 | Win count: 35 | Win rate: 0.292 | time: 215.2 seconds\n",
      "Epoch: 120/14999 | Loss: 0.0280 | Episodes: 25 | Win count: 36 | Win rate: 0.298 | time: 218.6 seconds\n",
      "Epoch: 121/14999 | Loss: 0.0872 | Episodes: 86 | Win count: 37 | Win rate: 0.303 | time: 229.7 seconds\n",
      "Epoch: 122/14999 | Loss: 0.0268 | Episodes: 27 | Win count: 38 | Win rate: 0.309 | time: 233.3 seconds\n",
      "Epoch: 123/14999 | Loss: 0.0128 | Episodes: 13 | Win count: 39 | Win rate: 0.315 | time: 234.9 seconds\n",
      "Epoch: 124/14999 | Loss: 0.0089 | Episodes: 8 | Win count: 40 | Win rate: 0.320 | time: 236.0 seconds\n",
      "Epoch: 125/14999 | Loss: 0.1538 | Episodes: 136 | Win count: 40 | Win rate: 0.317 | time: 254.0 seconds\n",
      "Epoch: 126/14999 | Loss: 0.0159 | Episodes: 12 | Win count: 41 | Win rate: 0.323 | time: 255.7 seconds\n",
      "Epoch: 127/14999 | Loss: 0.0255 | Episodes: 23 | Win count: 42 | Win rate: 0.328 | time: 258.6 seconds\n",
      "Epoch: 128/14999 | Loss: 0.0150 | Episodes: 13 | Win count: 43 | Win rate: 0.333 | time: 260.3 seconds\n",
      "Epoch: 129/14999 | Loss: 0.1376 | Episodes: 135 | Win count: 43 | Win rate: 0.331 | time: 277.8 seconds\n",
      "Epoch: 130/14999 | Loss: 0.0226 | Episodes: 27 | Win count: 44 | Win rate: 0.336 | time: 281.2 seconds\n",
      "Epoch: 131/14999 | Loss: 0.1030 | Episodes: 134 | Win count: 44 | Win rate: 0.333 | time: 298.6 seconds\n",
      "Epoch: 132/14999 | Loss: 0.0006 | Episodes: 1 | Win count: 45 | Win rate: 0.338 | time: 298.7 seconds\n",
      "Epoch: 133/14999 | Loss: 0.0062 | Episodes: 9 | Win count: 46 | Win rate: 0.343 | time: 299.8 seconds\n",
      "Epoch: 134/14999 | Loss: 0.0135 | Episodes: 20 | Win count: 47 | Win rate: 0.348 | time: 302.3 seconds\n",
      "Epoch: 135/14999 | Loss: 0.0897 | Episodes: 136 | Win count: 47 | Win rate: 0.346 | time: 320.1 seconds\n",
      "Epoch: 136/14999 | Loss: 0.1101 | Episodes: 141 | Win count: 47 | Win rate: 0.343 | time: 339.5 seconds\n",
      "Epoch: 137/14999 | Loss: 0.1053 | Episodes: 140 | Win count: 47 | Win rate: 0.341 | time: 358.3 seconds\n",
      "Epoch: 138/14999 | Loss: 0.0153 | Episodes: 21 | Win count: 48 | Win rate: 0.345 | time: 361.1 seconds\n",
      "Epoch: 139/14999 | Loss: 0.0322 | Episodes: 39 | Win count: 49 | Win rate: 0.350 | time: 366.0 seconds\n",
      "Epoch: 140/14999 | Loss: 0.0183 | Episodes: 22 | Win count: 50 | Win rate: 0.355 | time: 368.9 seconds\n",
      "Epoch: 141/14999 | Loss: 0.1086 | Episodes: 138 | Win count: 50 | Win rate: 0.352 | time: 387.3 seconds\n",
      "Epoch: 142/14999 | Loss: 0.1133 | Episodes: 141 | Win count: 50 | Win rate: 0.350 | time: 6.77 minutes\n",
      "Epoch: 143/14999 | Loss: 0.0024 | Episodes: 8 | Win count: 51 | Win rate: 0.354 | time: 6.79 minutes\n",
      "Epoch: 144/14999 | Loss: 0.0147 | Episodes: 15 | Win count: 52 | Win rate: 0.359 | time: 6.82 minutes\n",
      "Epoch: 145/14999 | Loss: 0.1290 | Episodes: 141 | Win count: 52 | Win rate: 0.356 | time: 7.12 minutes\n",
      "Epoch: 146/14999 | Loss: 0.1125 | Episodes: 142 | Win count: 52 | Win rate: 0.354 | time: 7.44 minutes\n",
      "Epoch: 147/14999 | Loss: 0.0005 | Episodes: 1 | Win count: 53 | Win rate: 0.358 | time: 7.44 minutes\n",
      "Epoch: 148/14999 | Loss: 0.0040 | Episodes: 4 | Win count: 54 | Win rate: 0.362 | time: 7.45 minutes\n",
      "Epoch: 149/14999 | Loss: 0.1168 | Episodes: 139 | Win count: 54 | Win rate: 0.360 | time: 7.77 minutes\n",
      "Epoch: 150/14999 | Loss: 0.1249 | Episodes: 143 | Win count: 54 | Win rate: 0.358 | time: 8.08 minutes\n",
      "Epoch: 151/14999 | Loss: 0.1166 | Episodes: 118 | Win count: 55 | Win rate: 0.362 | time: 8.33 minutes\n",
      "Epoch: 152/14999 | Loss: 0.1494 | Episodes: 127 | Win count: 56 | Win rate: 0.366 | time: 8.61 minutes\n",
      "Epoch: 153/14999 | Loss: 0.0084 | Episodes: 9 | Win count: 57 | Win rate: 0.370 | time: 8.63 minutes\n",
      "Epoch: 154/14999 | Loss: 0.0352 | Episodes: 33 | Win count: 58 | Win rate: 0.374 | time: 8.70 minutes\n",
      "Epoch: 155/14999 | Loss: 0.0124 | Episodes: 10 | Win count: 59 | Win rate: 0.378 | time: 8.73 minutes\n",
      "Epoch: 156/14999 | Loss: 0.1473 | Episodes: 119 | Win count: 60 | Win rate: 0.382 | time: 8.98 minutes\n",
      "Epoch: 157/14999 | Loss: 0.0266 | Episodes: 23 | Win count: 61 | Win rate: 0.386 | time: 9.03 minutes\n",
      "Epoch: 158/14999 | Loss: 0.0641 | Episodes: 59 | Win count: 62 | Win rate: 0.390 | time: 9.15 minutes\n",
      "Epoch: 159/14999 | Loss: 0.0048 | Episodes: 5 | Win count: 63 | Win rate: 0.394 | time: 9.17 minutes\n",
      "Epoch: 160/14999 | Loss: 0.0766 | Episodes: 68 | Win count: 64 | Win rate: 0.398 | time: 9.31 minutes\n",
      "Epoch: 161/14999 | Loss: 0.0317 | Episodes: 32 | Win count: 65 | Win rate: 0.401 | time: 9.38 minutes\n",
      "Epoch: 162/14999 | Loss: 0.0314 | Episodes: 32 | Win count: 66 | Win rate: 0.405 | time: 9.46 minutes\n",
      "Epoch: 163/14999 | Loss: 0.0291 | Episodes: 29 | Win count: 67 | Win rate: 0.409 | time: 9.52 minutes\n",
      "Epoch: 164/14999 | Loss: 0.0198 | Episodes: 20 | Win count: 68 | Win rate: 0.412 | time: 9.56 minutes\n",
      "Epoch: 165/14999 | Loss: 0.0022 | Episodes: 2 | Win count: 69 | Win rate: 0.416 | time: 9.57 minutes\n",
      "Epoch: 166/14999 | Loss: 0.0452 | Episodes: 44 | Win count: 70 | Win rate: 0.419 | time: 9.67 minutes\n",
      "Epoch: 167/14999 | Loss: 0.1519 | Episodes: 140 | Win count: 70 | Win rate: 0.417 | time: 9.97 minutes\n",
      "Epoch: 168/14999 | Loss: 0.0275 | Episodes: 33 | Win count: 71 | Win rate: 0.420 | time: 10.04 minutes\n",
      "Epoch: 169/14999 | Loss: 0.0156 | Episodes: 20 | Win count: 72 | Win rate: 0.424 | time: 10.08 minutes\n",
      "Epoch: 170/14999 | Loss: 0.0162 | Episodes: 18 | Win count: 73 | Win rate: 0.427 | time: 10.12 minutes\n",
      "Epoch: 171/14999 | Loss: 0.1364 | Episodes: 149 | Win count: 74 | Win rate: 0.430 | time: 10.43 minutes\n",
      "Epoch: 172/14999 | Loss: 0.0191 | Episodes: 21 | Win count: 75 | Win rate: 0.434 | time: 10.48 minutes\n",
      "Epoch: 173/14999 | Loss: 0.0032 | Episodes: 5 | Win count: 76 | Win rate: 0.437 | time: 10.49 minutes\n",
      "Epoch: 174/14999 | Loss: 0.0055 | Episodes: 7 | Win count: 77 | Win rate: 0.440 | time: 10.50 minutes\n",
      "Epoch: 175/14999 | Loss: 0.0364 | Episodes: 35 | Win count: 78 | Win rate: 0.443 | time: 10.58 minutes\n",
      "Epoch: 176/14999 | Loss: 0.0225 | Episodes: 26 | Win count: 79 | Win rate: 0.446 | time: 10.63 minutes\n",
      "Epoch: 177/14999 | Loss: 0.0479 | Episodes: 54 | Win count: 80 | Win rate: 0.449 | time: 10.75 minutes\n",
      "Epoch: 178/14999 | Loss: 0.0382 | Episodes: 38 | Win count: 81 | Win rate: 0.453 | time: 10.83 minutes\n",
      "Epoch: 179/14999 | Loss: 0.0133 | Episodes: 17 | Win count: 82 | Win rate: 0.456 | time: 10.87 minutes\n",
      "Epoch: 180/14999 | Loss: 0.0297 | Episodes: 33 | Win count: 83 | Win rate: 0.459 | time: 10.94 minutes\n",
      "Epoch: 181/14999 | Loss: 0.0054 | Episodes: 5 | Win count: 84 | Win rate: 0.462 | time: 10.95 minutes\n",
      "Epoch: 182/14999 | Loss: 0.0610 | Episodes: 63 | Win count: 85 | Win rate: 0.464 | time: 11.09 minutes\n",
      "Epoch: 183/14999 | Loss: 0.0261 | Episodes: 30 | Win count: 86 | Win rate: 0.467 | time: 11.16 minutes\n",
      "Epoch: 184/14999 | Loss: 0.0222 | Episodes: 23 | Win count: 87 | Win rate: 0.470 | time: 11.21 minutes\n",
      "Epoch: 185/14999 | Loss: 0.0423 | Episodes: 47 | Win count: 88 | Win rate: 0.473 | time: 11.31 minutes\n",
      "Epoch: 186/14999 | Loss: 0.0241 | Episodes: 26 | Win count: 89 | Win rate: 0.476 | time: 11.36 minutes\n",
      "Epoch: 187/14999 | Loss: 0.0353 | Episodes: 38 | Win count: 90 | Win rate: 0.479 | time: 11.45 minutes\n",
      "Epoch: 188/14999 | Loss: 0.0200 | Episodes: 25 | Win count: 91 | Win rate: 0.481 | time: 11.50 minutes\n",
      "Epoch: 189/14999 | Loss: 0.0228 | Episodes: 28 | Win count: 92 | Win rate: 0.484 | time: 11.56 minutes\n",
      "Epoch: 190/14999 | Loss: 0.0036 | Episodes: 7 | Win count: 93 | Win rate: 0.487 | time: 11.58 minutes\n",
      "Epoch: 191/14999 | Loss: 0.0191 | Episodes: 26 | Win count: 94 | Win rate: 0.490 | time: 11.64 minutes\n",
      "Epoch: 192/14999 | Loss: 0.0143 | Episodes: 16 | Win count: 95 | Win rate: 0.492 | time: 11.67 minutes\n",
      "Epoch: 193/14999 | Loss: 0.0024 | Episodes: 4 | Win count: 96 | Win rate: 0.495 | time: 11.68 minutes\n",
      "Epoch: 194/14999 | Loss: 0.0111 | Episodes: 18 | Win count: 97 | Win rate: 0.497 | time: 11.72 minutes\n",
      "Epoch: 195/14999 | Loss: 0.0230 | Episodes: 30 | Win count: 98 | Win rate: 0.500 | time: 11.78 minutes\n",
      "Epoch: 196/14999 | Loss: 0.0267 | Episodes: 44 | Win count: 99 | Win rate: 0.503 | time: 11.87 minutes\n",
      "Epoch: 197/14999 | Loss: 0.0209 | Episodes: 37 | Win count: 100 | Win rate: 0.505 | time: 11.97 minutes\n",
      "Epoch: 198/14999 | Loss: 0.0046 | Episodes: 7 | Win count: 101 | Win rate: 0.508 | time: 11.98 minutes\n",
      "Epoch: 199/14999 | Loss: 0.0017 | Episodes: 2 | Win count: 102 | Win rate: 0.510 | time: 11.99 minutes\n",
      "Epoch: 200/14999 | Loss: 0.0207 | Episodes: 29 | Win count: 103 | Win rate: 0.512 | time: 12.08 minutes\n",
      "Epoch: 201/14999 | Loss: 0.0050 | Episodes: 9 | Win count: 104 | Win rate: 0.515 | time: 12.10 minutes\n",
      "Epoch: 202/14999 | Loss: 0.0249 | Episodes: 38 | Win count: 105 | Win rate: 0.517 | time: 12.19 minutes\n",
      "Epoch: 203/14999 | Loss: 0.0152 | Episodes: 28 | Win count: 106 | Win rate: 0.520 | time: 12.27 minutes\n",
      "Epoch: 204/14999 | Loss: 0.0119 | Episodes: 20 | Win count: 107 | Win rate: 0.522 | time: 12.32 minutes\n",
      "Epoch: 205/14999 | Loss: 0.0544 | Episodes: 90 | Win count: 108 | Win rate: 0.524 | time: 12.52 minutes\n",
      "Epoch: 206/14999 | Loss: 0.0166 | Episodes: 32 | Win count: 109 | Win rate: 0.527 | time: 12.59 minutes\n",
      "Epoch: 207/14999 | Loss: 0.0165 | Episodes: 33 | Win count: 110 | Win rate: 0.529 | time: 12.66 minutes\n",
      "Epoch: 208/14999 | Loss: 0.0009 | Episodes: 3 | Win count: 111 | Win rate: 0.531 | time: 12.67 minutes\n",
      "Epoch: 209/14999 | Loss: 0.0103 | Episodes: 25 | Win count: 112 | Win rate: 0.533 | time: 12.72 minutes\n",
      "Epoch: 210/14999 | Loss: 0.0102 | Episodes: 21 | Win count: 113 | Win rate: 0.536 | time: 12.77 minutes\n",
      "Epoch: 211/14999 | Loss: 0.0046 | Episodes: 9 | Win count: 114 | Win rate: 0.538 | time: 12.79 minutes\n",
      "Epoch: 212/14999 | Loss: 0.0153 | Episodes: 26 | Win count: 115 | Win rate: 0.540 | time: 12.85 minutes\n",
      "Epoch: 213/14999 | Loss: 0.0165 | Episodes: 31 | Win count: 116 | Win rate: 0.542 | time: 12.92 minutes\n",
      "Epoch: 214/14999 | Loss: 0.0082 | Episodes: 17 | Win count: 117 | Win rate: 0.544 | time: 12.96 minutes\n",
      "Epoch: 215/14999 | Loss: 0.0162 | Episodes: 29 | Win count: 118 | Win rate: 0.546 | time: 13.03 minutes\n",
      "Epoch: 216/14999 | Loss: 0.0037 | Episodes: 7 | Win count: 119 | Win rate: 0.548 | time: 13.05 minutes\n",
      "Epoch: 217/14999 | Loss: 0.0064 | Episodes: 17 | Win count: 120 | Win rate: 0.550 | time: 13.09 minutes\n",
      "Epoch: 218/14999 | Loss: 0.0103 | Episodes: 26 | Win count: 121 | Win rate: 0.553 | time: 13.14 minutes\n",
      "Epoch: 219/14999 | Loss: 0.0100 | Episodes: 25 | Win count: 122 | Win rate: 0.555 | time: 13.21 minutes\n",
      "Epoch: 220/14999 | Loss: 0.0102 | Episodes: 28 | Win count: 123 | Win rate: 0.557 | time: 13.29 minutes\n",
      "Epoch: 221/14999 | Loss: 0.0031 | Episodes: 6 | Win count: 124 | Win rate: 0.559 | time: 13.31 minutes\n",
      "Epoch: 222/14999 | Loss: 0.0044 | Episodes: 17 | Win count: 125 | Win rate: 0.561 | time: 13.36 minutes\n",
      "Epoch: 223/14999 | Loss: 0.0123 | Episodes: 32 | Win count: 126 | Win rate: 0.562 | time: 13.43 minutes\n",
      "Epoch: 224/14999 | Loss: 0.0179 | Episodes: 41 | Win count: 127 | Win rate: 0.564 | time: 13.52 minutes\n",
      "Epoch: 225/14999 | Loss: 0.0179 | Episodes: 35 | Win count: 128 | Win rate: 0.566 | time: 13.60 minutes\n",
      "Epoch: 226/14999 | Loss: 0.0207 | Episodes: 34 | Win count: 129 | Win rate: 0.568 | time: 13.68 minutes\n",
      "Epoch: 227/14999 | Loss: 0.0005 | Episodes: 1 | Win count: 130 | Win rate: 0.570 | time: 13.69 minutes\n",
      "Epoch: 228/14999 | Loss: 0.0070 | Episodes: 14 | Win count: 131 | Win rate: 0.572 | time: 13.72 minutes\n",
      "Epoch: 229/14999 | Loss: 0.0114 | Episodes: 20 | Win count: 132 | Win rate: 0.574 | time: 13.76 minutes\n",
      "Epoch: 230/14999 | Loss: 0.0035 | Episodes: 4 | Win count: 133 | Win rate: 0.576 | time: 13.77 minutes\n",
      "Epoch: 231/14999 | Loss: 0.0098 | Episodes: 19 | Win count: 134 | Win rate: 0.578 | time: 13.81 minutes\n",
      "Epoch: 232/14999 | Loss: 0.0269 | Episodes: 49 | Win count: 135 | Win rate: 0.579 | time: 13.92 minutes\n",
      "Epoch: 233/14999 | Loss: 0.0302 | Episodes: 46 | Win count: 136 | Win rate: 0.581 | time: 14.03 minutes\n",
      "Epoch: 234/14999 | Loss: 0.0199 | Episodes: 30 | Win count: 137 | Win rate: 0.583 | time: 14.10 minutes\n",
      "Epoch: 235/14999 | Loss: 0.0066 | Episodes: 15 | Win count: 138 | Win rate: 0.585 | time: 14.14 minutes\n",
      "Epoch: 236/14999 | Loss: 0.0088 | Episodes: 11 | Win count: 139 | Win rate: 0.586 | time: 14.16 minutes\n",
      "Epoch: 237/14999 | Loss: 0.0146 | Episodes: 20 | Win count: 140 | Win rate: 0.588 | time: 14.21 minutes\n",
      "Epoch: 238/14999 | Loss: 0.0209 | Episodes: 31 | Win count: 141 | Win rate: 0.590 | time: 14.28 minutes\n",
      "Epoch: 239/14999 | Loss: 0.0118 | Episodes: 18 | Win count: 142 | Win rate: 0.592 | time: 14.33 minutes\n",
      "Epoch: 240/14999 | Loss: 0.0241 | Episodes: 29 | Win count: 143 | Win rate: 0.593 | time: 14.39 minutes\n",
      "Epoch: 241/14999 | Loss: 0.0163 | Episodes: 20 | Win count: 144 | Win rate: 0.595 | time: 14.44 minutes\n",
      "Epoch: 242/14999 | Loss: 0.0029 | Episodes: 4 | Win count: 145 | Win rate: 0.597 | time: 14.45 minutes\n",
      "Epoch: 243/14999 | Loss: 0.0108 | Episodes: 14 | Win count: 146 | Win rate: 0.598 | time: 14.48 minutes\n",
      "Epoch: 244/14999 | Loss: 0.0224 | Episodes: 28 | Win count: 147 | Win rate: 0.600 | time: 14.55 minutes\n",
      "Epoch: 245/14999 | Loss: 0.0252 | Episodes: 33 | Win count: 148 | Win rate: 0.602 | time: 14.62 minutes\n",
      "Epoch: 246/14999 | Loss: 0.0190 | Episodes: 25 | Win count: 149 | Win rate: 0.603 | time: 14.67 minutes\n",
      "Epoch: 247/14999 | Loss: 0.0183 | Episodes: 24 | Win count: 150 | Win rate: 0.605 | time: 14.73 minutes\n",
      "Epoch: 248/14999 | Loss: 0.0396 | Episodes: 48 | Win count: 151 | Win rate: 0.606 | time: 14.84 minutes\n",
      "Epoch: 249/14999 | Loss: 0.0305 | Episodes: 36 | Win count: 152 | Win rate: 0.608 | time: 14.91 minutes\n",
      "Epoch: 250/14999 | Loss: 0.0094 | Episodes: 16 | Win count: 153 | Win rate: 0.610 | time: 14.95 minutes\n",
      "Epoch: 251/14999 | Loss: 0.0090 | Episodes: 15 | Win count: 154 | Win rate: 0.611 | time: 14.98 minutes\n",
      "Epoch: 252/14999 | Loss: 0.0237 | Episodes: 35 | Win count: 155 | Win rate: 0.613 | time: 15.06 minutes\n",
      "Epoch: 253/14999 | Loss: 0.0158 | Episodes: 23 | Win count: 156 | Win rate: 0.614 | time: 15.11 minutes\n",
      "Epoch: 254/14999 | Loss: 0.0189 | Episodes: 30 | Win count: 157 | Win rate: 0.616 | time: 15.18 minutes\n",
      "Epoch: 255/14999 | Loss: 0.0106 | Episodes: 21 | Win count: 158 | Win rate: 0.617 | time: 15.24 minutes\n",
      "Epoch: 256/14999 | Loss: 0.0202 | Episodes: 29 | Win count: 159 | Win rate: 0.619 | time: 15.31 minutes\n",
      "Epoch: 257/14999 | Loss: 0.0226 | Episodes: 35 | Win count: 160 | Win rate: 0.620 | time: 15.39 minutes\n",
      "Epoch: 258/14999 | Loss: 0.0121 | Episodes: 19 | Win count: 161 | Win rate: 0.622 | time: 15.43 minutes\n",
      "Epoch: 259/14999 | Loss: 0.0007 | Episodes: 1 | Win count: 162 | Win rate: 0.623 | time: 15.44 minutes\n",
      "Epoch: 260/14999 | Loss: 0.0241 | Episodes: 41 | Win count: 163 | Win rate: 0.625 | time: 15.54 minutes\n",
      "Epoch: 261/14999 | Loss: 0.0083 | Episodes: 13 | Win count: 164 | Win rate: 0.626 | time: 15.57 minutes\n",
      "Epoch: 262/14999 | Loss: 0.0037 | Episodes: 5 | Win count: 165 | Win rate: 0.627 | time: 15.58 minutes\n",
      "Epoch: 263/14999 | Loss: 0.0129 | Episodes: 22 | Win count: 166 | Win rate: 0.629 | time: 15.64 minutes\n",
      "Epoch: 264/14999 | Loss: 0.0158 | Episodes: 31 | Win count: 167 | Win rate: 0.630 | time: 15.71 minutes\n",
      "Epoch: 265/14999 | Loss: 0.0084 | Episodes: 17 | Win count: 168 | Win rate: 0.632 | time: 15.75 minutes\n",
      "Epoch: 266/14999 | Loss: 0.0029 | Episodes: 6 | Win count: 169 | Win rate: 0.633 | time: 15.76 minutes\n",
      "Epoch: 267/14999 | Loss: 0.0096 | Episodes: 12 | Win count: 170 | Win rate: 0.634 | time: 15.79 minutes\n",
      "Epoch: 268/14999 | Loss: 0.0003 | Episodes: 1 | Win count: 171 | Win rate: 0.636 | time: 15.79 minutes\n",
      "Epoch: 269/14999 | Loss: 0.0170 | Episodes: 28 | Win count: 172 | Win rate: 0.637 | time: 15.86 minutes\n",
      "Epoch: 270/14999 | Loss: 0.0108 | Episodes: 18 | Win count: 173 | Win rate: 0.638 | time: 15.91 minutes\n",
      "Epoch: 271/14999 | Loss: 0.0267 | Episodes: 45 | Win count: 174 | Win rate: 0.640 | time: 16.00 minutes\n",
      "Epoch: 272/14999 | Loss: 0.0166 | Episodes: 27 | Win count: 175 | Win rate: 0.641 | time: 16.06 minutes\n",
      "Epoch: 273/14999 | Loss: 0.0142 | Episodes: 27 | Win count: 176 | Win rate: 0.642 | time: 16.12 minutes\n",
      "Epoch: 274/14999 | Loss: 0.0134 | Episodes: 29 | Win count: 177 | Win rate: 0.644 | time: 16.18 minutes\n",
      "Epoch: 275/14999 | Loss: 0.0107 | Episodes: 16 | Win count: 178 | Win rate: 0.645 | time: 16.22 minutes\n",
      "Epoch: 276/14999 | Loss: 0.0157 | Episodes: 35 | Win count: 179 | Win rate: 0.646 | time: 16.29 minutes\n",
      "Epoch: 277/14999 | Loss: 0.0050 | Episodes: 14 | Win count: 180 | Win rate: 0.647 | time: 16.33 minutes\n",
      "Epoch: 278/14999 | Loss: 0.0057 | Episodes: 15 | Win count: 181 | Win rate: 0.649 | time: 16.36 minutes\n",
      "Epoch: 279/14999 | Loss: 0.0012 | Episodes: 2 | Win count: 182 | Win rate: 0.650 | time: 16.37 minutes\n",
      "Epoch: 280/14999 | Loss: 0.0157 | Episodes: 30 | Win count: 183 | Win rate: 0.651 | time: 16.43 minutes\n",
      "Epoch: 281/14999 | Loss: 0.0110 | Episodes: 19 | Win count: 184 | Win rate: 0.652 | time: 16.48 minutes\n",
      "Epoch: 282/14999 | Loss: 0.0151 | Episodes: 32 | Win count: 185 | Win rate: 0.654 | time: 16.55 minutes\n",
      "Epoch: 283/14999 | Loss: 0.0044 | Episodes: 17 | Win count: 186 | Win rate: 0.655 | time: 16.59 minutes\n",
      "Epoch: 284/14999 | Loss: 0.0137 | Episodes: 27 | Win count: 187 | Win rate: 0.656 | time: 16.64 minutes\n",
      "Epoch: 285/14999 | Loss: 0.0022 | Episodes: 5 | Win count: 188 | Win rate: 0.657 | time: 16.66 minutes\n",
      "Epoch: 286/14999 | Loss: 0.0036 | Episodes: 9 | Win count: 189 | Win rate: 0.659 | time: 16.68 minutes\n",
      "Epoch: 287/14999 | Loss: 0.0144 | Episodes: 37 | Win count: 190 | Win rate: 0.660 | time: 16.77 minutes\n",
      "Epoch: 288/14999 | Loss: 0.0145 | Episodes: 28 | Win count: 191 | Win rate: 0.661 | time: 16.83 minutes\n",
      "Epoch: 289/14999 | Loss: 0.0134 | Episodes: 26 | Win count: 192 | Win rate: 0.662 | time: 16.89 minutes\n",
      "Epoch: 290/14999 | Loss: 0.0027 | Episodes: 5 | Win count: 193 | Win rate: 0.663 | time: 16.91 minutes\n",
      "Epoch: 291/14999 | Loss: 0.0006 | Episodes: 1 | Win count: 194 | Win rate: 0.664 | time: 16.91 minutes\n",
      "Epoch: 292/14999 | Loss: 0.0051 | Episodes: 11 | Win count: 195 | Win rate: 0.666 | time: 16.93 minutes\n",
      "Epoch: 293/14999 | Loss: 0.0118 | Episodes: 25 | Win count: 196 | Win rate: 0.667 | time: 16.99 minutes\n",
      "Epoch: 294/14999 | Loss: 0.0136 | Episodes: 34 | Win count: 197 | Win rate: 0.668 | time: 17.07 minutes\n",
      "Epoch: 295/14999 | Loss: 0.0064 | Episodes: 15 | Win count: 198 | Win rate: 0.669 | time: 17.10 minutes\n",
      "Epoch: 296/14999 | Loss: 0.0158 | Episodes: 34 | Win count: 199 | Win rate: 0.670 | time: 17.18 minutes\n",
      "Epoch: 297/14999 | Loss: 0.0050 | Episodes: 9 | Win count: 200 | Win rate: 0.671 | time: 17.20 minutes\n",
      "Reached 100% win rate at epoch: 297\n",
      "n_epoch: 297, max_mem: 512, data: 32, time: 17.21 minutes\n"
     ]
    },
    {
     "data": {
      "text/plain": [
       "1032.744516"
      ]
     },
     "execution_count": 44,
     "metadata": {},
     "output_type": "execute_result"
    }
   ],
   "source": [
    "model = build_model(maze)\n",
    "qtrain(model, maze, epoch=1000, max_memory=8*maze.size, data_size=32)"
   ]
  },
  {
   "cell_type": "markdown",
   "metadata": {},
   "source": [
    "This cell will check to see if the model passes the completion check. Note: This could take several minutes."
   ]
  },
  {
   "cell_type": "code",
   "execution_count": 45,
   "metadata": {},
   "outputs": [
    {
     "data": {
      "text/plain": [
       "<matplotlib.image.AxesImage at 0x1fa11302848>"
      ]
     },
     "execution_count": 45,
     "metadata": {},
     "output_type": "execute_result"
    },
    {
     "data": {
      "image/png": "[encoded data removed]",
      "text/plain": [
       "<Figure size 432x288 with 1 Axes>"
      ]
     },
     "metadata": {
      "needs_background": "light"
     },
     "output_type": "display_data"
    }
   ],
   "source": [
    "completion_check(model, qmaze)\n",
    "show(qmaze)"
   ]
  },
  {
   "cell_type": "markdown",
   "metadata": {},
   "source": [
    "This cell will test your model for one game. It will start the pirate at the top-left corner and run play_game. The agent should find a path from the starting position to the target (treasure). The treasure is located in the bottom-right corner."
   ]
  },
  {
   "cell_type": "code",
   "execution_count": 46,
   "metadata": {},
   "outputs": [
    {
     "data": {
      "text/plain": [
       "<matplotlib.image.AxesImage at 0x1fa11005948>"
      ]
     },
     "execution_count": 46,
     "metadata": {},
     "output_type": "execute_result"
    },
    {
     "data": {
      "image/png": "[encoded data removed]",
      "text/plain": [
       "<Figure size 432x288 with 1 Axes>"
      ]
     },
     "metadata": {
      "needs_background": "light"
     },
     "output_type": "display_data"
    }
   ],
   "source": [
    "pirate_start = (0, 0)\n",
    "play_game(model, qmaze, pirate_start)\n",
    "show(qmaze)"
   ]
  },
  {
   "cell_type": "markdown",
   "metadata": {},
   "source": [
    "## Save and Submit Your Work\n",
    "After you have finished creating the code for your notebook, save your work. Make sure that your notebook contains your name in the filename (e.g. Doe_Jane_ProjectTwo.ipynb). This will help your instructor access and grade your work easily. Download a copy of your IPYNB file and submit it to Brightspace. Refer to the Jupyter Notebook in Apporto Tutorial if you need help with these tasks."
   ]
  }
 ],
 "metadata": {
  "interpreter": {
   "hash": "9cdcbf2f1a6b7a53ec24c1743f42bd4cf1969fd40fcad7cff48c73852883d4f7"
  },
  "kernelspec": {
   "display_name": "Python 3",
   "language": "python",
   "name": "python3"
  },
  "language_info": {
   "codemirror_mode": {
    "name": "ipython",
    "version": 3
   },
   "file_extension": ".py",
   "mimetype": "text/x-python",
   "name": "python",
   "nbconvert_exporter": "python",
   "pygments_lexer": "ipython3",
   "version": "3.7.4"
  }
 },
 "nbformat": 4,
 "nbformat_minor": 2
}
